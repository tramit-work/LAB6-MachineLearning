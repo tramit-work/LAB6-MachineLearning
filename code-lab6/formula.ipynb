{
  "cells": [
    {
      "cell_type": "code",
      "execution_count": null,
      "metadata": {
        "id": "yIlACdbYJChF"
      },
      "outputs": [],
      "source": [
        "import torch"
      ]
    },
    {
      "cell_type": "markdown",
      "metadata": {
        "id": "_rsEiVU7JChG"
      },
      "source": [
        "+ Hoàn thành công thức tính loss function."
      ]
    },
    {
      "cell_type": "code",
      "execution_count": null,
      "metadata": {
        "id": "dY5r_zIgJChH"
      },
      "outputs": [],
      "source": [
        "import torch.nn as nn\n",
        "def crossEntropyLoss(output, target):\n",
        "    exp_output = torch.exp(output - torch.max(output))\n",
        "    probabilities = exp_output / torch.sum(exp_output)\n",
        "    log_probabilities = torch.log(probabilities + 1e-10)\n",
        "\n",
        "    return -torch.sum(target * log_probabilities)"
      ]
    },
    {
      "cell_type": "code",
      "execution_count": null,
      "metadata": {
        "id": "dAdtYv4jJChH"
      },
      "outputs": [],
      "source": [
        "# Công thức tính Mean Square Error\n",
        "def meanSquareError(output, target):\n",
        "    return torch.mean((output - target) ** 2)\n"
      ]
    },
    {
      "cell_type": "code",
      "execution_count": null,
      "metadata": {
        "id": "4Rtx3BonJChH"
      },
      "outputs": [],
      "source": [
        "# Công thức tính BinaryEntropy Loss\n",
        "def binaryEntropyLoss(output, target, n):\n",
        "    loss = - (target * torch.log(output + 1e-10) + (1 - target) * torch.log(1 - output + 1e-10))\n",
        "    return torch.mean(loss)"
      ]
    },
    {
      "cell_type": "code",
      "execution_count": null,
      "metadata": {
        "colab": {
          "base_uri": "https://localhost:8080/"
        },
        "id": "3rt76VOGJChI",
        "outputId": "24b22f9d-dcef-4113-f3c8-3d56eeead4d4"
      },
      "outputs": [
        {
          "output_type": "stream",
          "name": "stdout",
          "text": [
            "Mean Square Error: 0.08362500369548798\n",
            "Binary Entropy Loss: 0.7601855397224426\n",
            "Cross Entroypy Loss: 2.2507400512695312\n"
          ]
        }
      ],
      "source": [
        "inputs = torch.tensor([0.1, 0.3, 0.6, 0.7])\n",
        "target = torch.tensor([0.31, 0.32, 0.8, 0.2])\n",
        "n = len(inputs)\n",
        "mse = meanSquareError(inputs, target)\n",
        "binary_loss = binaryEntropyLoss(inputs, target, n)\n",
        "cross_loss = crossEntropyLoss(inputs, target)\n",
        "print(f\"Mean Square Error: {mse}\")\n",
        "print(f\"Binary Entropy Loss: {binary_loss}\")\n",
        "print(f\"Cross Entroypy Loss: {cross_loss}\")"
      ]
    },
    {
      "cell_type": "markdown",
      "metadata": {
        "id": "4CfM01w8JChI"
      },
      "source": [
        "![image.png](attachment:image.png)"
      ]
    },
    {
      "cell_type": "markdown",
      "metadata": {
        "id": "aHRjfmd7JChI"
      },
      "source": [
        "+ Hoàn thành công thức tính activation function"
      ]
    },
    {
      "cell_type": "code",
      "execution_count": null,
      "metadata": {
        "id": "silF0uJVJChI"
      },
      "outputs": [],
      "source": [
        "# Công thức hàm sigmoid\n",
        "def sigmoid(x: torch.Tensor):\n",
        "    return 1 / (1 + torch.exp(-x))"
      ]
    },
    {
      "cell_type": "code",
      "execution_count": null,
      "metadata": {
        "id": "BUmQwMCzJChJ"
      },
      "outputs": [],
      "source": [
        "# Công thức hàm relu\n",
        "def relu(x: torch.tensor):\n",
        "    return torch.maximum(x, torch.tensor(0.0))"
      ]
    },
    {
      "cell_type": "code",
      "execution_count": null,
      "metadata": {
        "id": "ibmTfEeXJChJ"
      },
      "outputs": [],
      "source": [
        "# Công thức hàm softmax\n",
        "def softmax(zi: torch.tensor):\n",
        "    exp_zi = torch.exp(zi - torch.max(zi))\n",
        "    return exp_zi / torch.sum(exp_zi)"
      ]
    },
    {
      "cell_type": "code",
      "execution_count": null,
      "metadata": {
        "id": "T6FyljksJChJ"
      },
      "outputs": [],
      "source": [
        "# Công thức hàm tanh\n",
        "def tanh(x: torch.tensor):\n",
        "    return (torch.exp(x) - torch.exp(-x)) / (torch.exp(x) + torch.exp(-x))"
      ]
    },
    {
      "cell_type": "code",
      "execution_count": null,
      "metadata": {
        "id": "BvxerqIlJChJ",
        "colab": {
          "base_uri": "https://localhost:8080/"
        },
        "outputId": "9deac254-1216-4ed5-87ac-b639271bfbf0"
      },
      "outputs": [
        {
          "output_type": "stream",
          "name": "stdout",
          "text": [
            "Sigmoid = tensor([0.7311, 0.9933, 0.0180, 0.9526, 0.1192])\n",
            "Relu = tensor([1., 5., 0., 3., 0.])\n",
            "Softmax = tensor([1.5862e-02, 8.6604e-01, 1.0688e-04, 1.1721e-01, 7.8972e-04])\n",
            "Tanh = tensor([ 0.7616,  0.9999, -0.9993,  0.9951, -0.9640])\n"
          ]
        }
      ],
      "source": [
        "x = torch.tensor([1, 5, -4, 3, -2])\n",
        "f_sigmoid = sigmoid(x)\n",
        "f_relu = relu(x)\n",
        "f_softmax = softmax(x)\n",
        "f_tanh = tanh(x)\n",
        "print(f\"Sigmoid = {f_sigmoid}\")\n",
        "print(f\"Relu = {f_relu}\")\n",
        "print(f\"Softmax = {f_softmax}\")\n",
        "print(f\"Tanh = {f_tanh}\")\n"
      ]
    },
    {
      "cell_type": "markdown",
      "metadata": {
        "id": "j1cyqN2zJChJ"
      },
      "source": [
        "![image.png](attachment:image.png)"
      ]
    }
  ],
  "metadata": {
    "kernelspec": {
      "display_name": "Python 3",
      "language": "python",
      "name": "python3"
    },
    "language_info": {
      "codemirror_mode": {
        "name": "ipython",
        "version": 3
      },
      "file_extension": ".py",
      "mimetype": "text/x-python",
      "name": "python",
      "nbconvert_exporter": "python",
      "pygments_lexer": "ipython3",
      "version": "3.11.5"
    },
    "colab": {
      "provenance": []
    }
  },
  "nbformat": 4,
  "nbformat_minor": 0
}